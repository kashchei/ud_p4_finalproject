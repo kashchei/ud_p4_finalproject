{
 "cells": [
  {
   "cell_type": "markdown",
   "metadata": {},
   "source": [
    "# Final Exercise - 4\n"
   ]
  },
  {
   "cell_type": "markdown",
   "metadata": {},
   "source": [
    "The following code is used for handling data for final exercise in R in udacity Nanodegree.\n",
    "Three different datasets are imported from JSON and txt format, and converted to CSV files for easier handling in R. "
   ]
  },
  {
   "cell_type": "code",
   "execution_count": 1,
   "metadata": {
    "collapsed": false
   },
   "outputs": [],
   "source": [
    "# Import libraries used below.\n",
    "import csv\n",
    "import glob\n",
    "import os\n",
    "import json"
   ]
  },
  {
   "cell_type": "code",
   "execution_count": 2,
   "metadata": {
    "collapsed": false
   },
   "outputs": [
    {
     "name": "stdout",
     "output_type": "stream",
     "text": [
      "C:\\Users\\x220t\\Google Drev\\Studies\\Udacity\\nanodegree\\4 - Data Analysis with R\\EDA_Course_Materials\\finalproject\n"
     ]
    }
   ],
   "source": [
    "# Check directory\n",
    "print os.getcwd()"
   ]
  },
  {
   "cell_type": "code",
   "execution_count": 2,
   "metadata": {
    "collapsed": false
   },
   "outputs": [
    {
     "name": "stdout",
     "output_type": "stream",
     "text": [
      "File changed to CSV. Records: 450\n"
     ]
    }
   ],
   "source": [
    "## POSITION DATA\n",
    "# Function for taking JSON file of locations points in Aarhus and make into CSV file\n",
    "def datapointToCsv(filename):\n",
    "    # Open JSON file\n",
    "    with open(filename) as data_file:    \n",
    "        data = json.load(data_file,encoding = \"UTF\")\n",
    "  \n",
    "    # Create CSV \n",
    "    f = csv.writer(open(\"data_files/measuring_points.csv\", \"wb+\"))\n",
    "    # Write CSV Header\n",
    "    f.writerow([\"lat1\",\"lon1\",\"lat2\",\"lon2\",\"distanceMeters\",\"roadType\",\"reportId\",\"speedLimit\",\"_id\", \"rba_id\",\"street_name\"])\n",
    "    # Write to CSV\n",
    "    counter =0\n",
    "    for record in data[\"result\"][\"records\"]:\n",
    "        counter += 1\n",
    "        f.writerow([record[\"POINT_1_LAT\"],\n",
    "                   record[\"POINT_1_LNG\"],\n",
    "                   record[\"POINT_2_LAT\"],\n",
    "                   record[\"POINT_2_LNG\"],\n",
    "                   record[\"DISTANCE_IN_METERS\"],\n",
    "                   record[\"ROAD_TYPE\"],\n",
    "                   record[\"REPORT_ID\"],\n",
    "                   record[\"NDT_IN_KMH\"], \n",
    "                   record[\"_id\"],\n",
    "                   record[\"RBA_ID\"],\n",
    "                   unicode(record[\"POINT_1_STREET\"]).encode(\"utf-8\")])\n",
    "\n",
    "    print \"File changed to CSV. Records:\",counter\n",
    "    \n",
    "datapointToCsv('position_data/road_names.json')"
   ]
  },
  {
   "cell_type": "code",
   "execution_count": 13,
   "metadata": {
    "collapsed": false
   },
   "outputs": [
    {
     "name": "stdout",
     "output_type": "stream",
     "text": [
      "Succesfully merged 148 CSV files from list into file: final_data.csv.\n"
     ]
    }
   ],
   "source": [
    "## TRAFFIC DATA - MERGING\n",
    "# Take CSV files and create list of them all\n",
    "\n",
    "def listCsv(path):\n",
    "    finalList = []\n",
    "    listDocumentsCsv = glob.glob(\"%s*.csv\" % path)\n",
    "    for doc in listDocumentsCsv:\n",
    "        finalList.append(doc.split(\"\\\\\")[1])\n",
    "    return finalList\n",
    "\n",
    "listCsvFiles2 = listCsv('traffic_data/')\n",
    "\n",
    "# Merge the csv files \n",
    "def mergeCsvFiles(filelist, path):\n",
    "    finalCsv=open(\"data_files/final_data.csv\",\"a\")\n",
    "    finalCsv.truncate()\n",
    "    i = 1\n",
    "    end = len(filelist)\n",
    "    for document in filelist:\n",
    "        while i == 1:\n",
    "            for line in open('%s%s' % (path, document)):\n",
    "                finalCsv.write(line)\n",
    "            i += 1\n",
    "        f = open('%s%s' % (path, document))\n",
    "        f.next() # skipping header\n",
    "        for line in f:\n",
    "            finalCsv.write(line)\n",
    "        i+=1\n",
    "        f.close()\n",
    "    finalCsv.close()\n",
    "    print \"Succesfully merged\",i,\"CSV files from list into file: final_data.csv.\"\n",
    "            \n",
    "# Call function for merging csv files\n",
    "mergeCsvFiles(listCsvFiles2, 'traffic_data/')"
   ]
  },
  {
   "cell_type": "code",
   "execution_count": 12,
   "metadata": {
    "collapsed": false
   },
   "outputs": [
    {
     "name": "stdout",
     "output_type": "stream",
     "text": [
      "Succesfully create file with data: wspdm added to CSV. Datapoints: 4357\n",
      "Succesfully create file with data: hum added to CSV. Datapoints: 4357\n",
      "Succesfully create file with data: tempm added to CSV. Datapoints: 4357\n"
     ]
    }
   ],
   "source": [
    "## WEATHER DATA\n",
    "# Convert weather txt files into readable csv files for R\n",
    "\n",
    "def txt_into_csv(filename):\n",
    "    # Get datatype from filename\n",
    "    name = filename.split(\".\")\n",
    "    datatype = name[0].split(\"/\")\n",
    "\n",
    "    # Iterate through txt file and get json data and put into csv file\n",
    "    with open(filename) as f:\n",
    "        lines = f.readlines()\n",
    "        \n",
    "        # Open CSV file for writing\n",
    "        f = csv.writer(open(\"data_files/%s.csv\"% datatype[1], \"wb+\"  ))\n",
    "        # Write CSV Header\n",
    "        f.writerow([\"timestamp\", \"%s\"  % datatype[1]])        \n",
    "        \n",
    "        counter = 0\n",
    "        for line in lines:\n",
    "            # Parse json content\n",
    "            json_parsed = json.loads(line)                \n",
    "            # Add datapoints to CSV file\n",
    "            for record in json_parsed:\n",
    "                f.writerow([record,\n",
    "                   json_parsed[record]])\n",
    "                counter += 1\n",
    "        print \"Succesfully create file with data:\",datatype[1],\"added to CSV. Datapoints:\",counter                                  \n",
    "    \n",
    "# Run function\n",
    "txt_into_csv(\"weather_data/wspdm.txt\")  \n",
    "txt_into_csv(\"weather_data/hum.txt\")\n",
    "txt_into_csv(\"weather_data/tempm.txt\")"
   ]
  }
 ],
 "metadata": {
  "anaconda-cloud": {},
  "kernelspec": {
   "display_name": "Python [Root]",
   "language": "python",
   "name": "Python [Root]"
  },
  "language_info": {
   "codemirror_mode": {
    "name": "ipython",
    "version": 2
   },
   "file_extension": ".py",
   "mimetype": "text/x-python",
   "name": "python",
   "nbconvert_exporter": "python",
   "pygments_lexer": "ipython2",
   "version": "2.7.10"
  }
 },
 "nbformat": 4,
 "nbformat_minor": 0
}
